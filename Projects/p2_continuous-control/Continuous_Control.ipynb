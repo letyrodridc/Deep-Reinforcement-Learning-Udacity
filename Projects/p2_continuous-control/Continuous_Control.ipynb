{
 "cells": [
  {
   "cell_type": "markdown",
   "metadata": {},
   "source": [
    "# Continuous Control\n",
    "\n",
    "---\n",
    "\n",
    "In this notebook, you will learn how to use the Unity ML-Agents environment for the second project of the [Deep Reinforcement Learning Nanodegree](https://www.udacity.com/course/deep-reinforcement-learning-nanodegree--nd893) program.\n",
    "\n",
    "### 1. Start the Environment\n",
    "\n",
    "We begin by importing the necessary packages.  If the code cell below returns an error, please revisit the project instructions to double-check that you have installed [Unity ML-Agents](https://github.com/Unity-Technologies/ml-agents/blob/master/docs/Installation.md) and [NumPy](http://www.numpy.org/)."
   ]
  },
  {
   "cell_type": "code",
   "execution_count": 1,
   "metadata": {},
   "outputs": [],
   "source": [
    "from unityagents import UnityEnvironment\n",
    "import numpy as np\n"
   ]
  },
  {
   "cell_type": "markdown",
   "metadata": {},
   "source": [
    "Next, we will start the environment!  **_Before running the code cell below_**, change the `file_name` parameter to match the location of the Unity environment that you downloaded.\n",
    "\n",
    "- **Mac**: `\"path/to/Reacher.app\"`\n",
    "- **Windows** (x86): `\"path/to/Reacher_Windows_x86/Reacher.exe\"`\n",
    "- **Windows** (x86_64): `\"path/to/Reacher_Windows_x86_64/Reacher.exe\"`\n",
    "- **Linux** (x86): `\"path/to/Reacher_Linux/Reacher.x86\"`\n",
    "- **Linux** (x86_64): `\"path/to/Reacher_Linux/Reacher.x86_64\"`\n",
    "- **Linux** (x86, headless): `\"path/to/Reacher_Linux_NoVis/Reacher.x86\"`\n",
    "- **Linux** (x86_64, headless): `\"path/to/Reacher_Linux_NoVis/Reacher.x86_64\"`\n",
    "\n",
    "For instance, if you are using a Mac, then you downloaded `Reacher.app`.  If this file is in the same folder as the notebook, then the line below should appear as follows:\n",
    "```\n",
    "env = UnityEnvironment(file_name=\"Reacher.app\")\n",
    "```"
   ]
  },
  {
   "cell_type": "code",
   "execution_count": 2,
   "metadata": {},
   "outputs": [
    {
     "name": "stderr",
     "output_type": "stream",
     "text": [
      "INFO:unityagents:\n",
      "'Academy' started successfully!\n",
      "Unity Academy name: Academy\n",
      "        Number of Brains: 1\n",
      "        Number of External Brains : 1\n",
      "        Lesson number : 0\n",
      "        Reset Parameters :\n",
      "\t\tgoal_speed -> 1.0\n",
      "\t\tgoal_size -> 5.0\n",
      "Unity brain name: ReacherBrain\n",
      "        Number of Visual Observations (per agent): 0\n",
      "        Vector Observation space type: continuous\n",
      "        Vector Observation space size (per agent): 33\n",
      "        Number of stacked Vector Observation: 1\n",
      "        Vector Action space type: continuous\n",
      "        Vector Action space size (per agent): 4\n",
      "        Vector Action descriptions: , , , \n"
     ]
    }
   ],
   "source": [
    "env = UnityEnvironment(file_name='data/Reacher_Linux/Reacher.x86_64')"
   ]
  },
  {
   "cell_type": "markdown",
   "metadata": {},
   "source": [
    "Environments contain **_brains_** which are responsible for deciding the actions of their associated agents. Here we check for the first brain available, and set it as the default brain we will be controlling from Python."
   ]
  },
  {
   "cell_type": "code",
   "execution_count": 3,
   "metadata": {},
   "outputs": [],
   "source": [
    "# get the default brain\n",
    "brain_name = env.brain_names[0]\n",
    "brain = env.brains[brain_name]"
   ]
  },
  {
   "cell_type": "markdown",
   "metadata": {},
   "source": [
    "### 2. Examine the State and Action Spaces\n",
    "\n",
    "In this environment, a double-jointed arm can move to target locations. A reward of `+0.1` is provided for each step that the agent's hand is in the goal location. Thus, the goal of your agent is to maintain its position at the target location for as many time steps as possible.\n",
    "\n",
    "The observation space consists of `33` variables corresponding to position, rotation, velocity, and angular velocities of the arm.  Each action is a vector with four numbers, corresponding to torque applicable to two joints.  Every entry in the action vector must be a number between `-1` and `1`.\n",
    "\n",
    "Run the code cell below to print some information about the environment."
   ]
  },
  {
   "cell_type": "code",
   "execution_count": 4,
   "metadata": {},
   "outputs": [
    {
     "name": "stdout",
     "output_type": "stream",
     "text": [
      "Number of agents: 1\n",
      "Size of each action: 4\n",
      "There are 1 agents. Each observes a state with length: 33\n",
      "The state for the first agent looks like: [ 0.00000000e+00 -4.00000000e+00  0.00000000e+00  1.00000000e+00\n",
      " -0.00000000e+00 -0.00000000e+00 -4.37113883e-08  0.00000000e+00\n",
      "  0.00000000e+00  0.00000000e+00  0.00000000e+00  0.00000000e+00\n",
      "  0.00000000e+00  0.00000000e+00 -1.00000000e+01  0.00000000e+00\n",
      "  1.00000000e+00 -0.00000000e+00 -0.00000000e+00 -4.37113883e-08\n",
      "  0.00000000e+00  0.00000000e+00  0.00000000e+00  0.00000000e+00\n",
      "  0.00000000e+00  0.00000000e+00  5.75471878e+00 -1.00000000e+00\n",
      "  5.55726671e+00  0.00000000e+00  1.00000000e+00  0.00000000e+00\n",
      " -1.68164849e-01]\n"
     ]
    }
   ],
   "source": [
    "# reset the environment\n",
    "env_info = env.reset(train_mode=True)[brain_name]\n",
    "\n",
    "# number of agents\n",
    "num_agents = len(env_info.agents)\n",
    "print('Number of agents:', num_agents)\n",
    "\n",
    "# size of each action\n",
    "action_size = brain.vector_action_space_size\n",
    "print('Size of each action:', action_size)\n",
    "\n",
    "# examine the state space \n",
    "states = env_info.vector_observations\n",
    "state_size = states.shape[1]\n",
    "print('There are {} agents. Each observes a state with length: {}'.format(states.shape[0], state_size))\n",
    "print('The state for the first agent looks like:', states[0])"
   ]
  },
  {
   "cell_type": "markdown",
   "metadata": {},
   "source": [
    "### 3. Take Random Actions in the Environment\n",
    "\n",
    "In the next code cell, you will learn how to use the Python API to control the agent and receive feedback from the environment.\n",
    "\n",
    "Once this cell is executed, you will watch the agent's performance, if it selects an action at random with each time step.  A window should pop up that allows you to observe the agent, as it moves through the environment.  \n",
    "\n",
    "Of course, as part of the project, you'll have to change the code so that the agent is able to use its experience to gradually choose better actions when interacting with the environment!"
   ]
  },
  {
   "cell_type": "raw",
   "metadata": {},
   "source": [
    "env_info = env.reset(train_mode=False)[brain_name]     # reset the environment    \n",
    "states = env_info.vector_observations                  # get the current state (for each agent)\n",
    "scores = np.zeros(num_agents)                          # initialize the score (for each agent)\n",
    "while True:\n",
    "    actions = np.random.randn(num_agents, action_size) # select an action (for each agent)\n",
    "    actions = np.clip(actions, -1, 1)                  # all actions between -1 and 1\n",
    "    env_info = env.step(actions)[brain_name]           # send all actions to tne environment\n",
    "    next_states = env_info.vector_observations         # get next state (for each agent)\n",
    "    rewards = env_info.rewards                         # get reward (for each agent)\n",
    "    dones = env_info.local_done                        # see if episode finished\n",
    "    scores += env_info.rewards                         # update the score (for each agent)\n",
    "    states = next_states                               # roll over states to next time step\n",
    "    if np.any(dones):                                  # exit loop if episode finished\n",
    "        break\n",
    "print('Total score (averaged over agents) this episode: {}'.format(np.mean(scores)))"
   ]
  },
  {
   "cell_type": "markdown",
   "metadata": {},
   "source": [
    "When finished, you can close the environment."
   ]
  },
  {
   "cell_type": "raw",
   "metadata": {},
   "source": [
    "env.close()"
   ]
  },
  {
   "cell_type": "markdown",
   "metadata": {},
   "source": [
    "### 4. It's Your Turn!\n",
    "\n",
    "Now it's your turn to train your own agent to solve the environment!  When training the environment, set `train_mode=True`, so that the line for resetting the environment looks like the following:\n",
    "```python\n",
    "env_info = env.reset(train_mode=True)[brain_name]\n",
    "```"
   ]
  },
  {
   "cell_type": "markdown",
   "metadata": {},
   "source": [
    "https://github.com/Unity-Technologies/ml-agents/blob/master/docs/Python-API.md"
   ]
  },
  {
   "cell_type": "code",
   "execution_count": 5,
   "metadata": {},
   "outputs": [],
   "source": [
    "%load_ext autoreload\n",
    "%autoreload 2\n"
   ]
  },
  {
   "cell_type": "code",
   "execution_count": 6,
   "metadata": {},
   "outputs": [],
   "source": [
    "from ddpg_agent import Agent\n",
    "from collections import deque\n",
    "\n",
    "import torch\n",
    "import matplotlib.pyplot as plt\n",
    "%matplotlib inline"
   ]
  },
  {
   "cell_type": "code",
   "execution_count": 7,
   "metadata": {},
   "outputs": [
    {
     "name": "stderr",
     "output_type": "stream",
     "text": [
      "/home/lety/anaconda3/envs/pytorch/lib/python3.6/site-packages/torch/nn/functional.py:995: UserWarning: nn.functional.tanh is deprecated. Use torch.tanh instead.\n",
      "  warnings.warn(\"nn.functional.tanh is deprecated. Use torch.tanh instead.\")\n"
     ]
    },
    {
     "name": "stdout",
     "output_type": "stream",
     "text": [
      "Episode 0\tAverage Score: 0.00\n",
      "Episode 100\tAverage Score: 0.17\n",
      "Episode 0\tAverage Score: 0.2828\n",
      "Episode 100\tAverage Score: 0.00\n",
      "Episode 0\tAverage Score: 0.0000\n",
      "Episode 100\tAverage Score: 0.21\n",
      "Episode 0\tAverage Score: 1.1213\n",
      "Episode 100\tAverage Score: 0.00\n",
      "Episode 0\tAverage Score: 0.0000\n",
      "Episode 100\tAverage Score: 0.16\n",
      "Episode 0\tAverage Score: 0.2121\n",
      "Episode 100\tAverage Score: 0.00\n",
      "Episode 0\tAverage Score: 0.0000\n",
      "Episode 100\tAverage Score: 0.00\n",
      "Episode 0\tAverage Score: 0.0000\n",
      "Episode 100\tAverage Score: 0.00\n",
      "Episode 0\tAverage Score: 0.0000\n",
      "Episode 100\tAverage Score: 0.00\n",
      "Episode 0\tAverage Score: 0.0000\n",
      "Episode 100\tAverage Score: 0.00\n",
      "Episode 0\tAverage Score: 0.0000\n",
      "Episode 100\tAverage Score: 0.87\n",
      "Episode 0\tAverage Score: 1.1920\n",
      "Episode 100\tAverage Score: 0.00\n",
      "Episode 0\tAverage Score: 0.0000\n",
      "Episode 100\tAverage Score: 0.18\n",
      "Episode 0\tAverage Score: 0.4040\n",
      "Episode 100\tAverage Score: 0.00\n",
      "Episode 0\tAverage Score: 0.0000\n",
      "Episode 100\tAverage Score: 0.00\n",
      "Episode 0\tAverage Score: 0.0000\n",
      "Episode 100\tAverage Score: 0.00\n",
      "Episode 0\tAverage Score: 0.0000\n",
      "Episode 100\tAverage Score: 0.00\n",
      "Episode 0\tAverage Score: 0.0000\n",
      "Episode 100\tAverage Score: 0.28\n",
      "Episode 0\tAverage Score: 0.3333\n",
      "Episode 100\tAverage Score: 0.08\n",
      "Episode 0\tAverage Score: 0.1212\n",
      "Episode 100\tAverage Score: 0.00\n",
      "Episode 0\tAverage Score: 0.0000\n",
      "Episode 100\tAverage Score: 0.00\n",
      "Episode 0\tAverage Score: 0.0000\n",
      "Episode 100\tAverage Score: 0.00\n",
      "Episode 0\tAverage Score: 0.0000\n",
      "Episode 100\tAverage Score: 0.00\n",
      "Episode 0\tAverage Score: 0.0000\n",
      "Episode 100\tAverage Score: 0.00\n",
      "Episode 0\tAverage Score: 0.0000\n",
      "Episode 100\tAverage Score: 0.00\n",
      "Episode 0\tAverage Score: 0.0000\n",
      "Episode 100\tAverage Score: 0.00\n",
      "Episode 0\tAverage Score: 0.0000\n",
      "Episode 100\tAverage Score: 0.00\n",
      "Episode 0\tAverage Score: 0.0000\n",
      "Episode 100\tAverage Score: 0.00\n",
      "Episode 0\tAverage Score: 0.0000\n",
      "Episode 100\tAverage Score: 0.00\n",
      "Episode 0\tAverage Score: 0.0000\n",
      "Episode 100\tAverage Score: 0.00\n",
      "Episode 0\tAverage Score: 0.0000\n",
      "Episode 100\tAverage Score: 0.21\n",
      "Episode 0\tAverage Score: 0.3636\n",
      "Episode 100\tAverage Score: 0.00\n",
      "Episode 0\tAverage Score: 0.0000\n",
      "Episode 100\tAverage Score: 0.00\n",
      "Episode 0\tAverage Score: 0.0000\n",
      "Episode 100\tAverage Score: 0.00\n",
      "Episode 0\tAverage Score: 0.0000\n",
      "Episode 100\tAverage Score: 0.02\n",
      "Episode 0\tAverage Score: 0.0707\n",
      "Episode 100\tAverage Score: 0.00\n",
      "Episode 0\tAverage Score: 0.0000\n",
      "Episode 100\tAverage Score: 0.00\n",
      "Episode 0\tAverage Score: 0.0000\n",
      "Episode 100\tAverage Score: 0.00\n",
      "Episode 0\tAverage Score: 0.0000\n",
      "Episode 100\tAverage Score: 0.00\n",
      "Episode 0\tAverage Score: 0.0000\n",
      "Episode 100\tAverage Score: 0.09\n",
      "Episode 199\tAverage Score: 0.10Total score (averaged over agents) this episode: 0.08027749820565805\n"
     ]
    },
    {
     "data": {
      "image/png": "[encoded data removed]",
      "text/plain": [
       "<Figure size 432x288 with 1 Axes>"
      ]
     },
     "metadata": {
      "needs_background": "light"
     },
     "output_type": "display_data"
    }
   ],
   "source": [
    "num_agents = 1\n",
    "rl_agent = Agent(100, state_size, action_size)\n",
    "print_every = 100\n",
    "                     \n",
    "scores_deque = deque(maxlen=print_every)\n",
    "scores = []\n",
    "episodes = 40\n",
    "time_steps = 200\n",
    "\n",
    "for e in range(episodes):\n",
    "    env_info = env.reset(train_mode=True)[brain_name]     \n",
    "    states = env_info.vector_observations[0]\n",
    "    \n",
    "\n",
    "    score = 0\n",
    "    for t in range(time_steps):\n",
    "        \n",
    "        actions = rl_agent.next_action(states)\n",
    "        \n",
    "        env_info = env.step(actions)\n",
    "        \n",
    "        next_states = env_info[\"ReacherBrain\"].vector_observations[0]    \n",
    "        rewards = env_info[\"ReacherBrain\"].rewards                         \n",
    "        dones = env_info[\"ReacherBrain\"].local_done                        \n",
    "        score += env_info[\"ReacherBrain\"].rewards[0]                         \n",
    "        states = next_states\n",
    "        \n",
    "        if np.any(dones):                                  \n",
    "            break\n",
    "        \n",
    "        scores_deque.append(score)\n",
    "        scores.append(score)\n",
    "        print('\\rEpisode {}\\tAverage Score: {:.2f}'.format(t, np.mean(scores_deque)), end=\"\")\n",
    "        torch.save(rl_agent.actor.state_dict(), 'checkpoint_actor.pth')\n",
    "        torch.save(rl_agent.critic.state_dict(), 'checkpoint_critic.pth')\n",
    "        if t % print_every == 0:\n",
    "            print('\\rEpisode {}\\tAverage Score: {:.2f}'.format(t, np.mean(scores_deque)))\n",
    "\n",
    "print('Total score (averaged over agents) this episode: {}'.format(np.mean(scores)))\n",
    "\n",
    "fig = plt.figure()\n",
    "ax = fig.add_subplot(111)\n",
    "plt.plot(np.arange(1, len(scores)+1), scores)\n",
    "plt.ylabel('Score')\n",
    "plt.xlabel('Episode #')\n",
    "plt.show()"
   ]
  },
  {
   "cell_type": "code",
   "execution_count": 8,
   "metadata": {},
   "outputs": [],
   "source": [
    "rl_agent.actor.load_state_dict(torch.load('checkpoint_actor.pth'))\n",
    "rl_agent.critic.load_state_dict(torch.load('checkpoint_critic.pth'))\n",
    "\n",
    "env_info = env.reset(train_mode=False)[brain_name] \n",
    "state = env_info.vector_observations[0] \n",
    "for t in range(200):\n",
    "    action = rl_agent.next_action(state)\n",
    "    env_info = env.step(action)\n",
    "    state = env_info[\"ReacherBrain\"].vector_observations[0] \n",
    "    dones = env_info[\"ReacherBrain\"].local_done\n",
    "    if np.any(dones):                                  \n",
    "        break\n",
    "        \n",
    "\n"
   ]
  },
  {
   "cell_type": "code",
   "execution_count": 9,
   "metadata": {},
   "outputs": [],
   "source": [
    "env.close()"
   ]
  },
  {
   "cell_type": "code",
   "execution_count": null,
   "metadata": {},
   "outputs": [],
   "source": []
  },
  {
   "cell_type": "code",
   "execution_count": null,
   "metadata": {},
   "outputs": [],
   "source": []
  },
  {
   "cell_type": "code",
   "execution_count": null,
   "metadata": {},
   "outputs": [],
   "source": []
  },
  {
   "cell_type": "code",
   "execution_count": null,
   "metadata": {},
   "outputs": [],
   "source": []
  }
 ],
 "metadata": {
  "kernelspec": {
   "display_name": "Python 3",
   "language": "python",
   "name": "python3"
  },
  "language_info": {
   "codemirror_mode": {
    "name": "ipython",
    "version": 3
   },
   "file_extension": ".py",
   "mimetype": "text/x-python",
   "name": "python",
   "nbconvert_exporter": "python",
   "pygments_lexer": "ipython3",
   "version": "3.6.4"
  }
 },
 "nbformat": 4,
 "nbformat_minor": 2
}
